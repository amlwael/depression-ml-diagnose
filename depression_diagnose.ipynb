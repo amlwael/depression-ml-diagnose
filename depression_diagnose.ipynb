{
 "cells": [
  {
   "cell_type": "markdown",
   "id": "5aeb9439",
   "metadata": {},
   "source": [
    "\n",
    "# 📘 Depression Detection via Machine Learning\n",
    "\n",
    "Dieses Projekt nutzt echte, symptom-basierte Fragebogendaten, um ein Modell zur Vorhersage von Depression zu trainieren. Es basiert auf typischen Anzeichen wie Schlafmangel, Müdigkeit, Konzentrationsschwäche und Appetitveränderung.\n",
    "\n",
    "## 📊 Datenanalyse (EDA)\n"
   ]
  },
  {
   "cell_type": "code",
   "execution_count": null,
   "id": "0d50f52e",
   "metadata": {},
   "outputs": [],
   "source": [
    "\n",
    "import pandas as pd\n",
    "import matplotlib.pyplot as plt\n",
    "import seaborn as sns\n",
    "from sklearn.model_selection import train_test_split\n",
    "from sklearn.ensemble import RandomForestClassifier\n",
    "from sklearn.metrics import classification_report, confusion_matrix, ConfusionMatrixDisplay\n",
    "\n",
    "# Daten laden\n",
    "df = pd.read_csv(\"mental_health_dataset.csv\")\n",
    "df.head()\n"
   ]
  },
  {
   "cell_type": "code",
   "execution_count": null,
   "id": "3230dfc2",
   "metadata": {},
   "outputs": [],
   "source": [
    "\n",
    "# Korrelationen anzeigen\n",
    "plt.figure(figsize=(8,6))\n",
    "sns.heatmap(df.corr(), annot=True, cmap='coolwarm')\n",
    "plt.title(\"Korrelation zwischen Merkmalen\")\n",
    "plt.show()\n"
   ]
  },
  {
   "cell_type": "code",
   "execution_count": null,
   "id": "6997c9de",
   "metadata": {},
   "outputs": [],
   "source": [
    "\n",
    "# Modelltraining\n",
    "X = df.drop(\"has_depression\", axis=1)\n",
    "y = df[\"has_depression\"]\n",
    "X_train, X_test, y_train, y_test = train_test_split(X, y, test_size=0.3, random_state=42)\n",
    "\n",
    "model = RandomForestClassifier()\n",
    "model.fit(X_train, y_train)\n",
    "y_pred = model.predict(X_test)\n"
   ]
  },
  {
   "cell_type": "code",
   "execution_count": null,
   "id": "3d7cfc3d",
   "metadata": {},
   "outputs": [],
   "source": [
    "\n",
    "# Klassifikationsbericht\n",
    "print(classification_report(y_test, y_pred))\n"
   ]
  },
  {
   "cell_type": "code",
   "execution_count": null,
   "id": "076d83ed",
   "metadata": {},
   "outputs": [],
   "source": [
    "\n",
    "cm = confusion_matrix(y_test, y_pred)\n",
    "disp = ConfusionMatrixDisplay(confusion_matrix=cm)\n",
    "disp.plot()\n",
    "plt.title(\"Konfusionsmatrix\")\n",
    "plt.show()\n"
   ]
  },
  {
   "cell_type": "code",
   "execution_count": null,
   "id": "b9e13ca4",
   "metadata": {},
   "outputs": [],
   "source": [
    "\n",
    "# Feature Importance\n",
    "importances = pd.Series(model.feature_importances_, index=X.columns)\n",
    "importances.sort_values(ascending=True).plot(kind='barh')\n",
    "plt.title(\"Wichtigkeit der Merkmale\")\n",
    "plt.show()\n"
   ]
  }
 ],
 "metadata": {},
 "nbformat": 4,
 "nbformat_minor": 5
}
