{
  "nbformat": 4,
  "nbformat_minor": 0,
  "metadata": {
    "colab": {
      "provenance": []
    },
    "kernelspec": {
      "name": "python3",
      "display_name": "Python 3"
    },
    "language_info": {
      "name": "python"
    }
  },
  "cells": [
    {
      "cell_type": "code",
      "execution_count": 2,
      "metadata": {
        "colab": {
          "base_uri": "https://localhost:8080/"
        },
        "id": "XeOmHH7fL8rI",
        "outputId": "93e48c31-074f-490e-f777-e1ee84ff77ae"
      },
      "outputs": [
        {
          "output_type": "stream",
          "name": "stdout",
          "text": [
            "📊 Klassifikationsbericht:\n",
            "               precision    recall  f1-score   support\n",
            "\n",
            "           0       1.00      1.00      1.00         2\n",
            "           1       1.00      1.00      1.00         3\n",
            "\n",
            "    accuracy                           1.00         5\n",
            "   macro avg       1.00      1.00      1.00         5\n",
            "weighted avg       1.00      1.00      1.00         5\n",
            "\n",
            "🧩 Konfusionsmatrix:\n",
            " [[2 0]\n",
            " [0 3]]\n"
          ]
        }
      ],
      "source": [
        "import pandas as pd\n",
        "from sklearn.model_selection import train_test_split\n",
        "from sklearn.ensemble import RandomForestClassifier\n",
        "from sklearn.metrics import classification_report, confusion_matrix\n",
        "\n",
        "# Datensatz laden\n",
        "df = pd.read_csv(\"mental_health_dataset.csv\")\n",
        "\n",
        "# Features und Zielspalte trennen\n",
        "X = df.drop(\"has_depression\", axis=1)\n",
        "y = df[\"has_depression\"]\n",
        "\n",
        "# Trainings- und Testdaten aufteilen\n",
        "X_train, X_test, y_train, y_test = train_test_split(X, y, test_size=0.3, random_state=42)\n",
        "\n",
        "# Modell erstellen und trainieren\n",
        "model = RandomForestClassifier()\n",
        "model.fit(X_train, y_train)\n",
        "\n",
        "# Vorhersagen und Auswertung\n",
        "y_pred = model.predict(X_test)\n",
        "print(\"📊 Klassifikationsbericht:\\n\", classification_report(y_test, y_pred))\n",
        "print(\"🧩 Konfusionsmatrix:\\n\", confusion_matrix(y_test, y_pred))\n"
      ]
    }
  ]
}